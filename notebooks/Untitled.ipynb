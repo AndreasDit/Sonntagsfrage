{
 "cells": [
  {
   "cell_type": "code",
   "execution_count": 9,
   "metadata": {},
   "outputs": [],
   "source": [
    "from datetime import datetime as dt\n",
    "from datetime import timedelta\n",
    "import sklearn.metrics as met\n",
    "import pandas as pd\n",
    "\n",
    "PATH_DATAFRAMES = '/Users/andreasditte/Desktop/Private_Projekte/Sonntagsfrage/src/dataframes'"
   ]
  },
  {
   "cell_type": "code",
   "execution_count": 10,
   "metadata": {},
   "outputs": [],
   "source": [
    "import matplotlib.pyplot as plt\n",
    "import numpy as np\n",
    "from sklearn import datasets, ensemble\n",
    "from sklearn.inspection import permutation_importance\n",
    "from sklearn.metrics import mean_squared_error\n",
    "from sklearn.model_selection import train_test_split"
   ]
  },
  {
   "cell_type": "code",
   "execution_count": 11,
   "metadata": {},
   "outputs": [],
   "source": [
    "def load_df_from_file(filename, path=PATH_DATAFRAMES):\n",
    "    \"\"\"\n",
    "        Loads a local file into a Pandas Dataframe.\n",
    "\n",
    "        :param filename: Name of the file that shall be loaded.\n",
    "        :param path: Path to the file.\n",
    "        :return: pandas.Dataframe: Returns a Pandas Dataframe created from the loaded file.\n",
    "    \"\"\"\n",
    "\n",
    "    df = pd.read_pickle(f\"{path}/{filename}.pkl\")\n",
    "\n",
    "    return df"
   ]
  },
  {
   "cell_type": "code",
   "execution_count": 12,
   "metadata": {},
   "outputs": [],
   "source": [
    "df_generate_predictions_finish = load_df_from_file('generate_predictions_finish')"
   ]
  },
  {
   "cell_type": "code",
   "execution_count": 13,
   "metadata": {},
   "outputs": [
    {
     "data": {
      "text/plain": [
       "Index(['day_in_month_sin', 'calendar_week_sin', 'weekday_sin', 'dayofyear_sin',\n",
       "       'month_sin', 'day_in_month_cos', 'calendar_week_cos', 'weekday_cos',\n",
       "       'dayofyear_cos', 'month_cos', 'nb_days_since_last_survey', 'CDU_CSU',\n",
       "       'SPD', 'GRUENE', 'FDP', 'LINKE', 'PIRATEN', 'AfD', 'Linke_PDS', 'PDS',\n",
       "       'REP_DVU', 'Sonstige', 'CDU_CSU_pred', 'SPD_pred', 'GRUENE_pred',\n",
       "       'FDP_pred', 'LINKE_pred', 'PIRATEN_pred', 'AfD_pred', 'Linke_PDS_pred',\n",
       "       'PDS_pred', 'REP_DVU_pred', 'Sonstige_pred'],\n",
       "      dtype='object')"
      ]
     },
     "execution_count": 13,
     "metadata": {},
     "output_type": "execute_result"
    }
   ],
   "source": [
    "df_generate_predictions_finish.columns"
   ]
  },
  {
   "cell_type": "markdown",
   "metadata": {},
   "source": [
    "## Get algos to work"
   ]
  },
  {
   "cell_type": "code",
   "execution_count": 4,
   "metadata": {},
   "outputs": [],
   "source": [
    "diabetes = datasets.load_diabetes()\n",
    "X, y = diabetes.data, diabetes.target\n",
    "\n",
    "X_train, X_test, y_train, y_test = train_test_split(\n",
    "    X, y, test_size=0.1, random_state=13)\n",
    "\n",
    "params = {'n_estimators': 500,\n",
    "          'max_depth': 4,\n",
    "          'min_samples_split': 5,\n",
    "          'learning_rate': 0.01,\n",
    "          'loss': 'ls'}\n"
   ]
  },
  {
   "cell_type": "code",
   "execution_count": 7,
   "metadata": {},
   "outputs": [
    {
     "data": {
      "text/plain": [
       "array([172.,  91.,  48., 116., 185., 170., 129., 104.,  85.,  97.,  84.,\n",
       "       170.,  87., 186., 273., 230., 141., 134.,  96.,  94.,  71., 214.,\n",
       "       235., 252.,  72., 276., 197.,  91., 277., 145.,  52., 131.,  91.,\n",
       "        65., 102.,  93., 191.,  83., 201.,  96., 118., 168.,  71., 258.,\n",
       "        84., 108., 185., 198., 262.,  78., 172.,  72.,  40., 243.,  93.,\n",
       "       279., 306., 111., 217.,  67., 197., 144.,  42.,  43., 246., 113.,\n",
       "        59., 128., 225., 156., 219.,  64., 163.,  99.,  52., 103.,  90.,\n",
       "        96., 275., 129.,  48., 264.,  77., 182., 212., 268.,  81.,  85.,\n",
       "       242., 121., 195., 293.,  83.,  91., 190., 109., 146., 177., 185.,\n",
       "       233.,  65., 113., 310.,  74., 139.,  68., 109., 158., 150., 158.,\n",
       "       139.,  52., 210., 143., 160., 104.,  49., 163.,  90.,  55., 101.,\n",
       "       109., 200., 310., 288., 192., 263., 164., 220.,  96., 202., 143.,\n",
       "        55., 216., 173., 131., 245., 110., 109.,  59.,  83.,  72.,  48.,\n",
       "       341.,  92., 232.,  65., 101.,  88., 122., 144.,  77., 191., 310.,\n",
       "        80., 128., 321., 244., 128., 281.,  61., 189.,  58.,  97., 268.,\n",
       "        66., 295., 221.,  77., 144., 265., 249.,  63.,  60., 124.,  78.,\n",
       "        94.,  53., 115., 220., 134., 162.,  84., 173., 275.,  63., 100.,\n",
       "       183., 215., 135.,  72., 142.,  88., 121.,  55., 246.,  61.,  45.,\n",
       "        57., 217., 257., 116., 202.,  50., 120.,  92., 175.,  73., 131.,\n",
       "        64.,  90., 242.,  71., 131., 241., 252., 258., 181., 248., 138.,\n",
       "       115.,  39., 265., 208., 222., 127., 127.,  68.,  69., 196.,  60.,\n",
       "        69., 171., 160., 281.,  71., 182., 148., 202.,  74., 141., 259.,\n",
       "       168., 230., 229., 257., 150., 311.,  70.,  77., 243., 138., 151.,\n",
       "       140., 136., 118., 200., 137., 111.,  49., 302., 110.,  44., 142.,\n",
       "        90., 248., 180., 178., 111.,  51., 118., 198., 155., 220.,  55.,\n",
       "        59., 181., 259.,  65., 200., 150.,  42., 107.,  75.,  59., 277.,\n",
       "       142.,  95.,  52., 180., 196., 219., 303.,  81., 280., 233., 104.,\n",
       "        94., 206.,  95.,  79., 164.,  39., 104.,  54., 283., 248., 155.,\n",
       "        37., 122.,  88., 214., 262., 142., 170., 137., 174., 202., 242.,\n",
       "       236., 317.,  78.,  97.,  25.,  51., 274.,  60.,  66.,  31., 101.,\n",
       "       296., 141., 346., 103., 128., 252., 292., 190., 102., 206., 174.,\n",
       "       336., 123.,  70., 178.,  47., 198., 308.,  84.,  63., 237., 297.,\n",
       "       153., 184., 124.,  49., 200., 245., 151., 200.,  51., 168., 107.,\n",
       "       332.,  68., 147., 270.,  89.,  69., 261., 265., 178.,  75.,  42.,\n",
       "       281., 233., 126., 275.,  53.,  89., 114., 199., 135., 132.,  53.,\n",
       "        99.,  64., 209.,  67.,  71., 187., 272., 220., 166.,  85., 237.,\n",
       "       214.])"
      ]
     },
     "execution_count": 7,
     "metadata": {},
     "output_type": "execute_result"
    }
   ],
   "source": [
    "y_train"
   ]
  },
  {
   "cell_type": "code",
   "execution_count": 5,
   "metadata": {},
   "outputs": [
    {
     "name": "stdout",
     "output_type": "stream",
     "text": [
      "The mean squared error (MSE) on test set: 3006.5641\n"
     ]
    }
   ],
   "source": [
    "reg = ensemble.GradientBoostingRegressor(**params)\n",
    "reg.fit(X_train, y_train)\n",
    "\n",
    "mse = mean_squared_error(y_test, reg.predict(X_test))\n",
    "print(\"The mean squared error (MSE) on test set: {:.4f}\".format(mse))"
   ]
  },
  {
   "cell_type": "markdown",
   "metadata": {},
   "source": [
    "## Get time to work properly"
   ]
  },
  {
   "cell_type": "code",
   "execution_count": 6,
   "metadata": {},
   "outputs": [
    {
     "data": {
      "text/plain": [
       "datetime.datetime(2020, 12, 31, 11, 13, 39, 35657)"
      ]
     },
     "execution_count": 6,
     "metadata": {},
     "output_type": "execute_result"
    }
   ],
   "source": [
    "dt.now()"
   ]
  },
  {
   "cell_type": "code",
   "execution_count": 10,
   "metadata": {},
   "outputs": [
    {
     "name": "stdout",
     "output_type": "stream",
     "text": [
      "2020-12-28 11:14:59.677252\n",
      "2021-01-03 11:14:59.677252\n"
     ]
    }
   ],
   "source": [
    "dt_now = dt.now()\n",
    "start = dt_now - timedelta(days=dt_now.weekday())\n",
    "end = start + timedelta(days=6)\n",
    "print(start)\n",
    "print(end)"
   ]
  },
  {
   "cell_type": "code",
   "execution_count": 14,
   "metadata": {},
   "outputs": [
    {
     "data": {
      "text/plain": [
       "'28.12.2020'"
      ]
     },
     "execution_count": 14,
     "metadata": {},
     "output_type": "execute_result"
    }
   ],
   "source": [
    "dt.strftime(start, '%d.%m.%Y')"
   ]
  },
  {
   "cell_type": "markdown",
   "metadata": {},
   "source": [
    "## Create dataframe with metrics"
   ]
  },
  {
   "cell_type": "code",
   "execution_count": 14,
   "metadata": {},
   "outputs": [],
   "source": [
    "y_true = [1,3,5,4,3,2]\n",
    "y_pred = [6,5,1,2,5,2]\n",
    "estimator = 'DecisionTreeRegressor'"
   ]
  },
  {
   "cell_type": "code",
   "execution_count": 15,
   "metadata": {},
   "outputs": [],
   "source": [
    "mae = met.mean_absolute_error(y_true, y_pred)\n",
    "mse = met.mean_squared_error(y_true, y_pred)\n",
    "rmse = met.mean_squared_error(y_true, y_pred, squared=False)\n",
    "mape = met.mean_absolute_percentage_error(y_true, y_pred)\n",
    "r2 = met.r2_score(y_true, y_pred)\n",
    "\n",
    "metrics_series = [mae, mse, rmse, mape, r2, estimator]\n",
    "metrics_array = [[mae, mse, rmse, mape, r2, estimator]]\n",
    "metrics_colnames = ['mae', 'mse', 'rmse', 'mape', 'r2', 'estimator']"
   ]
  },
  {
   "cell_type": "code",
   "execution_count": 16,
   "metadata": {},
   "outputs": [],
   "source": [
    "df_metrics = pd.DataFrame(metrics_array, columns =metrics_colnames) "
   ]
  },
  {
   "cell_type": "code",
   "execution_count": 17,
   "metadata": {},
   "outputs": [
    {
     "data": {
      "text/html": [
       "<div>\n",
       "<style scoped>\n",
       "    .dataframe tbody tr th:only-of-type {\n",
       "        vertical-align: middle;\n",
       "    }\n",
       "\n",
       "    .dataframe tbody tr th {\n",
       "        vertical-align: top;\n",
       "    }\n",
       "\n",
       "    .dataframe thead th {\n",
       "        text-align: right;\n",
       "    }\n",
       "</style>\n",
       "<table border=\"1\" class=\"dataframe\">\n",
       "  <thead>\n",
       "    <tr style=\"text-align: right;\">\n",
       "      <th></th>\n",
       "      <th>mae</th>\n",
       "      <th>mse</th>\n",
       "      <th>rmse</th>\n",
       "      <th>mape</th>\n",
       "      <th>r2</th>\n",
       "      <th>estimator</th>\n",
       "    </tr>\n",
       "  </thead>\n",
       "  <tbody>\n",
       "    <tr>\n",
       "      <th>0</th>\n",
       "      <td>2.5</td>\n",
       "      <td>8.833333</td>\n",
       "      <td>2.972092</td>\n",
       "      <td>1.272222</td>\n",
       "      <td>-4.3</td>\n",
       "      <td>DecisionTreeRegressor</td>\n",
       "    </tr>\n",
       "  </tbody>\n",
       "</table>\n",
       "</div>"
      ],
      "text/plain": [
       "   mae       mse      rmse      mape   r2              estimator\n",
       "0  2.5  8.833333  2.972092  1.272222 -4.3  DecisionTreeRegressor"
      ]
     },
     "execution_count": 17,
     "metadata": {},
     "output_type": "execute_result"
    }
   ],
   "source": [
    "df_metrics.head()"
   ]
  },
  {
   "cell_type": "code",
   "execution_count": 18,
   "metadata": {
    "collapsed": true,
    "jupyter": {
     "outputs_hidden": true
    }
   },
   "outputs": [
    {
     "name": "stdout",
     "output_type": "stream",
     "text": [
      "day_in_month_sin             813\n",
      "calendar_week_sin            813\n",
      "weekday_sin                  813\n",
      "dayofyear_sin                813\n",
      "month_sin                    813\n",
      "day_in_month_cos             813\n",
      "calendar_week_cos            813\n",
      "weekday_cos                  813\n",
      "dayofyear_cos                813\n",
      "month_cos                    813\n",
      "nb_days_since_last_survey    813\n",
      "CDU_CSU                      813\n",
      "SPD                          813\n",
      "GRUENE                       813\n",
      "FDP                          813\n",
      "LINKE                        813\n",
      "PIRATEN                      813\n",
      "AfD                          813\n",
      "Linke_PDS                    813\n",
      "PDS                          813\n",
      "REP_DVU                      813\n",
      "Sonstige                     813\n",
      "CDU_CSU_pred                 813\n",
      "SPD_pred                     813\n",
      "GRUENE_pred                  813\n",
      "FDP_pred                     813\n",
      "LINKE_pred                   813\n",
      "PIRATEN_pred                 813\n",
      "AfD_pred                     813\n",
      "Linke_PDS_pred               813\n",
      "PDS_pred                     813\n",
      "REP_DVU_pred                 813\n",
      "Sonstige_pred                813\n",
      "dtype: int64\n",
      "day_in_month_sin             814\n",
      "calendar_week_sin            814\n",
      "weekday_sin                  814\n",
      "dayofyear_sin                814\n",
      "month_sin                    814\n",
      "day_in_month_cos             814\n",
      "calendar_week_cos            814\n",
      "weekday_cos                  814\n",
      "dayofyear_cos                814\n",
      "month_cos                    814\n",
      "nb_days_since_last_survey    814\n",
      "CDU_CSU                      814\n",
      "SPD                          814\n",
      "GRUENE                       814\n",
      "FDP                          814\n",
      "LINKE                        814\n",
      "PIRATEN                      814\n",
      "AfD                          814\n",
      "Linke_PDS                    814\n",
      "PDS                          814\n",
      "REP_DVU                      814\n",
      "Sonstige                     814\n",
      "CDU_CSU_pred                 813\n",
      "SPD_pred                     813\n",
      "GRUENE_pred                  813\n",
      "FDP_pred                     813\n",
      "LINKE_pred                   813\n",
      "PIRATEN_pred                 813\n",
      "AfD_pred                     813\n",
      "Linke_PDS_pred               813\n",
      "PDS_pred                     813\n",
      "REP_DVU_pred                 813\n",
      "Sonstige_pred                813\n",
      "dtype: int64\n"
     ]
    }
   ],
   "source": [
    "print(df_generate_predictions_finish.dropna().count()) # 813\n",
    "print(df_generate_predictions_finish.count()) # 814"
   ]
  },
  {
   "cell_type": "code",
   "execution_count": 19,
   "metadata": {},
   "outputs": [],
   "source": [
    "y_true_spd = df_generate_predictions_finish.dropna()['SPD']\n",
    "y_pred_spd = df_generate_predictions_finish.dropna()['SPD_pred']"
   ]
  },
  {
   "cell_type": "code",
   "execution_count": 20,
   "metadata": {},
   "outputs": [
    {
     "name": "stdout",
     "output_type": "stream",
     "text": [
      "6.204797047970479\n"
     ]
    }
   ],
   "source": [
    "mae = met.mean_absolute_error(y_true_spd, y_pred_spd)\n",
    "print(mae)"
   ]
  },
  {
   "cell_type": "code",
   "execution_count": 21,
   "metadata": {},
   "outputs": [
    {
     "data": {
      "text/plain": [
       "Datum_dt\n",
       "1998-02-05    43.0\n",
       "1998-02-10    45.0\n",
       "1998-04-04    45.0\n",
       "1998-04-07    41.0\n",
       "1998-04-18    41.0\n",
       "              ... \n",
       "2020-08-20    14.0\n",
       "2020-09-01    24.0\n",
       "2020-09-17    26.0\n",
       "2020-10-15    14.0\n",
       "2020-11-15    26.0\n",
       "Name: SPD_pred, Length: 813, dtype: float64"
      ]
     },
     "execution_count": 21,
     "metadata": {},
     "output_type": "execute_result"
    }
   ],
   "source": [
    "y_pred_spd"
   ]
  },
  {
   "cell_type": "code",
   "execution_count": 22,
   "metadata": {},
   "outputs": [
    {
     "name": "stdout",
     "output_type": "stream",
     "text": [
      "[[2.5, 8.833333333333334, 2.972092416687835, 1.2722222222222224, -4.3, 'DecisionTreeRegressor'], [2.5, 8.833333333333334, 2.972092416687835, 1.2722222222222224, -4.3, 'DecisionTreeRegressor']]\n"
     ]
    }
   ],
   "source": [
    "test = []\n",
    "test.append(metrics_series)\n",
    "test.append(metrics_series)\n",
    "print(test)"
   ]
  },
  {
   "cell_type": "code",
   "execution_count": 27,
   "metadata": {},
   "outputs": [
    {
     "name": "stdout",
     "output_type": "stream",
     "text": [
      "[6.204797047970479, 8.833333333333334, 2.972092416687835, 1.2722222222222224, -4.3]\n",
      "[6.2048, 8.8333, 2.9721, 1.2722, -4.3]\n"
     ]
    }
   ],
   "source": [
    "metrics_series_test = [mae, mse, rmse, mape, r2]\n",
    "round_to_tenths = [round(num, 4) for num in metrics_series_test]\n",
    "print(metrics_series_test)\n",
    "print(round_to_tenths)"
   ]
  },
  {
   "cell_type": "code",
   "execution_count": 28,
   "metadata": {},
   "outputs": [],
   "source": [
    "metrics_series_test.append('estimator')"
   ]
  },
  {
   "cell_type": "code",
   "execution_count": 29,
   "metadata": {},
   "outputs": [
    {
     "name": "stdout",
     "output_type": "stream",
     "text": [
      "[6.204797047970479, 8.833333333333334, 2.972092416687835, 1.2722222222222224, -4.3, 'estimator']\n"
     ]
    }
   ],
   "source": [
    "print(metrics_series_test)"
   ]
  },
  {
   "cell_type": "code",
   "execution_count": 59,
   "metadata": {},
   "outputs": [
    {
     "data": {
      "text/html": [
       "<div>\n",
       "<style scoped>\n",
       "    .dataframe tbody tr th:only-of-type {\n",
       "        vertical-align: middle;\n",
       "    }\n",
       "\n",
       "    .dataframe tbody tr th {\n",
       "        vertical-align: top;\n",
       "    }\n",
       "\n",
       "    .dataframe thead th {\n",
       "        text-align: right;\n",
       "    }\n",
       "</style>\n",
       "<table border=\"1\" class=\"dataframe\">\n",
       "  <thead>\n",
       "    <tr style=\"text-align: right;\">\n",
       "      <th></th>\n",
       "      <th>mae</th>\n",
       "      <th>mse</th>\n",
       "      <th>rmse</th>\n",
       "      <th>mape</th>\n",
       "      <th>r2</th>\n",
       "      <th>estimator</th>\n",
       "    </tr>\n",
       "  </thead>\n",
       "  <tbody>\n",
       "    <tr>\n",
       "      <th>0</th>\n",
       "      <td>2.5</td>\n",
       "      <td>8.833333</td>\n",
       "      <td>2.972092</td>\n",
       "      <td>1.272222</td>\n",
       "      <td>-4.3</td>\n",
       "      <td>DecisionTreeRegressor</td>\n",
       "    </tr>\n",
       "    <tr>\n",
       "      <th>1</th>\n",
       "      <td>2.5</td>\n",
       "      <td>8.833333</td>\n",
       "      <td>2.972092</td>\n",
       "      <td>1.272222</td>\n",
       "      <td>-4.3</td>\n",
       "      <td>DecisionTreeRegressor</td>\n",
       "    </tr>\n",
       "  </tbody>\n",
       "</table>\n",
       "</div>"
      ],
      "text/plain": [
       "   mae       mse      rmse      mape   r2              estimator\n",
       "0  2.5  8.833333  2.972092  1.272222 -4.3  DecisionTreeRegressor\n",
       "1  2.5  8.833333  2.972092  1.272222 -4.3  DecisionTreeRegressor"
      ]
     },
     "execution_count": 59,
     "metadata": {},
     "output_type": "execute_result"
    }
   ],
   "source": [
    "df_test = pd.DataFrame(test, columns =metrics_colnames) \n",
    "df_test.head()"
   ]
  },
  {
   "cell_type": "code",
   "execution_count": null,
   "metadata": {},
   "outputs": [],
   "source": []
  }
 ],
 "metadata": {
  "kernelspec": {
   "display_name": "Python 3",
   "language": "python",
   "name": "python3"
  },
  "language_info": {
   "codemirror_mode": {
    "name": "ipython",
    "version": 3
   },
   "file_extension": ".py",
   "mimetype": "text/x-python",
   "name": "python",
   "nbconvert_exporter": "python",
   "pygments_lexer": "ipython3",
   "version": "3.9.1"
  }
 },
 "nbformat": 4,
 "nbformat_minor": 4
}
